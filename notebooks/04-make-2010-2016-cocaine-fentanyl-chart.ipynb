{
 "cells": [
  {
   "cell_type": "markdown",
   "metadata": {},
   "source": [
    "# National overdoses due to cocaine and synthetic opioids by year (2010-2016)\n",
    "\n",
    "This notebook produces a table and bar chart of national overdoses due to cocaine and synthetic opioids by year."
   ]
  },
  {
   "cell_type": "code",
   "execution_count": 1,
   "metadata": {},
   "outputs": [],
   "source": [
    "import pandas as pd\n",
    "import os\n",
    "from matplotlib import pyplot as plt\n",
    "from matplotlib import font_manager as fm\n",
    "from matplotlib import rcParams\n"
   ]
  },
  {
   "cell_type": "markdown",
   "metadata": {},
   "source": [
    "## Set some matplot properties for aesthetics"
   ]
  },
  {
   "cell_type": "code",
   "execution_count": 2,
   "metadata": {},
   "outputs": [],
   "source": [
    "# space between headline and axis\n",
    "rcParams['axes.titlepad'] = 20 "
   ]
  },
  {
   "cell_type": "code",
   "execution_count": 3,
   "metadata": {},
   "outputs": [],
   "source": [
    "# Add fonts if available\n",
    "\n",
    "# check for avenir\n",
    "if os.path.isfile(\"../fonts/AvenirNext-Regular.ttf\"):\n",
    "    tickfont = fm.FontProperties(\n",
    "        fname=\"../fonts/AvenirNext-Regular.ttf\", \n",
    "        size = 24\n",
    "    )\n",
    "    \n",
    "    labelfont = fm.FontProperties(\n",
    "        fname=\"../fonts/AvenirNext-Regular.ttf\", \n",
    "        size = 24\n",
    "    )\n",
    "else:\n",
    "    tickfont = fm.FontProperties(\n",
    "        family=\"Arial\", \n",
    "        size = 24\n",
    "    )\n",
    "    \n",
    "    labelfont = fm.FontProperties(\n",
    "        family=\"Arial\", \n",
    "        size = 22\n",
    "    )\n",
    "\n",
    "# check for proxima nova extra bold\n",
    "if os.path.isfile(\"../fonts/ProximaNova-Xbold-webfont.woff\"):\n",
    "    titlefont = fm.FontProperties(\n",
    "        fname = \"../fonts/ProximaNova-Xbold-webfont.woff\",\n",
    "        size = 36\n",
    "    )\n",
    "else:\n",
    "    titlefont = fm.FontProperties(\n",
    "        family = \"Arial\",\n",
    "        size = 36\n",
    "    )"
   ]
  },
  {
   "cell_type": "markdown",
   "metadata": {},
   "source": [
    "## Load the data"
   ]
  },
  {
   "cell_type": "markdown",
   "metadata": {},
   "source": [
    "Cocaine+fentanyl overdoses:"
   ]
  },
  {
   "cell_type": "code",
   "execution_count": 4,
   "metadata": {},
   "outputs": [
    {
     "data": {
      "text/html": [
       "<div>\n",
       "<style scoped>\n",
       "    .dataframe tbody tr th:only-of-type {\n",
       "        vertical-align: middle;\n",
       "    }\n",
       "\n",
       "    .dataframe tbody tr th {\n",
       "        vertical-align: top;\n",
       "    }\n",
       "\n",
       "    .dataframe thead th {\n",
       "        text-align: right;\n",
       "    }\n",
       "</style>\n",
       "<table border=\"1\" class=\"dataframe\">\n",
       "  <thead>\n",
       "    <tr style=\"text-align: right;\">\n",
       "      <th></th>\n",
       "      <th>Year</th>\n",
       "      <th>Deaths</th>\n",
       "      <th>Population</th>\n",
       "      <th>Crude Rate</th>\n",
       "      <th>Age Adjusted Rate</th>\n",
       "    </tr>\n",
       "  </thead>\n",
       "  <tbody>\n",
       "    <tr>\n",
       "      <th>0</th>\n",
       "      <td>2010</td>\n",
       "      <td>167</td>\n",
       "      <td>308745538</td>\n",
       "      <td>0.05</td>\n",
       "      <td>0.06</td>\n",
       "    </tr>\n",
       "    <tr>\n",
       "      <th>1</th>\n",
       "      <td>2011</td>\n",
       "      <td>189</td>\n",
       "      <td>311591917</td>\n",
       "      <td>0.06</td>\n",
       "      <td>0.06</td>\n",
       "    </tr>\n",
       "    <tr>\n",
       "      <th>2</th>\n",
       "      <td>2012</td>\n",
       "      <td>182</td>\n",
       "      <td>313914040</td>\n",
       "      <td>0.06</td>\n",
       "      <td>0.05</td>\n",
       "    </tr>\n",
       "    <tr>\n",
       "      <th>3</th>\n",
       "      <td>2013</td>\n",
       "      <td>245</td>\n",
       "      <td>316128839</td>\n",
       "      <td>0.08</td>\n",
       "      <td>0.07</td>\n",
       "    </tr>\n",
       "    <tr>\n",
       "      <th>4</th>\n",
       "      <td>2014</td>\n",
       "      <td>628</td>\n",
       "      <td>318857056</td>\n",
       "      <td>0.20</td>\n",
       "      <td>0.22</td>\n",
       "    </tr>\n",
       "    <tr>\n",
       "      <th>5</th>\n",
       "      <td>2015</td>\n",
       "      <td>1542</td>\n",
       "      <td>321418820</td>\n",
       "      <td>0.48</td>\n",
       "      <td>0.50</td>\n",
       "    </tr>\n",
       "    <tr>\n",
       "      <th>6</th>\n",
       "      <td>2016</td>\n",
       "      <td>4184</td>\n",
       "      <td>323127513</td>\n",
       "      <td>1.29</td>\n",
       "      <td>1.34</td>\n",
       "    </tr>\n",
       "  </tbody>\n",
       "</table>\n",
       "</div>"
      ],
      "text/plain": [
       "   Year  Deaths  Population  Crude Rate  Age Adjusted Rate\n",
       "0  2010     167   308745538        0.05               0.06\n",
       "1  2011     189   311591917        0.06               0.06\n",
       "2  2012     182   313914040        0.06               0.05\n",
       "3  2013     245   316128839        0.08               0.07\n",
       "4  2014     628   318857056        0.20               0.22\n",
       "5  2015    1542   321418820        0.48               0.50\n",
       "6  2016    4184   323127513        1.29               1.34"
      ]
     },
     "execution_count": 4,
     "metadata": {},
     "output_type": "execute_result"
    }
   ],
   "source": [
    "coc_fen = (\n",
    "    pd.read_csv(\"../data/mcd/national/cocaine_fentanyl_10_16_national.txt\",\n",
    "        delimiter=\"\\t\",\n",
    "    )\n",
    "    .loc[lambda x: x['Notes'].isnull()]\n",
    "    .drop(columns = ['Notes', 'Year Code'])\n",
    ")\n",
    "\n",
    "for c in [ \"Year\", \"Deaths\", \"Population\" ]:\n",
    "    coc_fen[c] = coc_fen[c].astype(int)\n",
    "    \n",
    "coc_fen"
   ]
  },
  {
   "cell_type": "markdown",
   "metadata": {},
   "source": [
    "Cocaine-only overdoses for comparison:"
   ]
  },
  {
   "cell_type": "code",
   "execution_count": 5,
   "metadata": {},
   "outputs": [
    {
     "data": {
      "text/html": [
       "<div>\n",
       "<style scoped>\n",
       "    .dataframe tbody tr th:only-of-type {\n",
       "        vertical-align: middle;\n",
       "    }\n",
       "\n",
       "    .dataframe tbody tr th {\n",
       "        vertical-align: top;\n",
       "    }\n",
       "\n",
       "    .dataframe thead th {\n",
       "        text-align: right;\n",
       "    }\n",
       "</style>\n",
       "<table border=\"1\" class=\"dataframe\">\n",
       "  <thead>\n",
       "    <tr style=\"text-align: right;\">\n",
       "      <th></th>\n",
       "      <th>Year</th>\n",
       "      <th>Deaths</th>\n",
       "      <th>Population</th>\n",
       "      <th>Crude Rate</th>\n",
       "    </tr>\n",
       "  </thead>\n",
       "  <tbody>\n",
       "    <tr>\n",
       "      <th>0</th>\n",
       "      <td>2010</td>\n",
       "      <td>4183</td>\n",
       "      <td>308745538</td>\n",
       "      <td>1.35</td>\n",
       "    </tr>\n",
       "    <tr>\n",
       "      <th>1</th>\n",
       "      <td>2011</td>\n",
       "      <td>4681</td>\n",
       "      <td>311591917</td>\n",
       "      <td>1.50</td>\n",
       "    </tr>\n",
       "    <tr>\n",
       "      <th>2</th>\n",
       "      <td>2012</td>\n",
       "      <td>4404</td>\n",
       "      <td>313914040</td>\n",
       "      <td>1.40</td>\n",
       "    </tr>\n",
       "    <tr>\n",
       "      <th>3</th>\n",
       "      <td>2013</td>\n",
       "      <td>4944</td>\n",
       "      <td>316128839</td>\n",
       "      <td>1.56</td>\n",
       "    </tr>\n",
       "    <tr>\n",
       "      <th>4</th>\n",
       "      <td>2014</td>\n",
       "      <td>5415</td>\n",
       "      <td>318857056</td>\n",
       "      <td>1.70</td>\n",
       "    </tr>\n",
       "    <tr>\n",
       "      <th>5</th>\n",
       "      <td>2015</td>\n",
       "      <td>6784</td>\n",
       "      <td>321418820</td>\n",
       "      <td>2.11</td>\n",
       "    </tr>\n",
       "    <tr>\n",
       "      <th>6</th>\n",
       "      <td>2016</td>\n",
       "      <td>10375</td>\n",
       "      <td>323127513</td>\n",
       "      <td>3.21</td>\n",
       "    </tr>\n",
       "  </tbody>\n",
       "</table>\n",
       "</div>"
      ],
      "text/plain": [
       "   Year  Deaths  Population  Crude Rate\n",
       "0  2010    4183   308745538        1.35\n",
       "1  2011    4681   311591917        1.50\n",
       "2  2012    4404   313914040        1.40\n",
       "3  2013    4944   316128839        1.56\n",
       "4  2014    5415   318857056        1.70\n",
       "5  2015    6784   321418820        2.11\n",
       "6  2016   10375   323127513        3.21"
      ]
     },
     "execution_count": 5,
     "metadata": {},
     "output_type": "execute_result"
    }
   ],
   "source": [
    "coc = (\n",
    "    pd.read_csv(\"../data/mcd/national/cocaine_10_16_national.txt\",\n",
    "        delimiter=\"\\t\",\n",
    "    )\n",
    "    .loc[lambda x: x['Notes'].isnull()]\n",
    "    .drop(columns = ['Notes', 'Year Code'])\n",
    ")\n",
    "\n",
    "for c in [ \"Year\", \"Deaths\", \"Population\" ]:\n",
    "    coc[c] = coc[c].astype(int)\n",
    "    \n",
    "coc"
   ]
  },
  {
   "cell_type": "markdown",
   "metadata": {},
   "source": [
    "What percentage of cocaine deaths also involved fentanyl in 2016?"
   ]
  },
  {
   "cell_type": "code",
   "execution_count": 6,
   "metadata": {},
   "outputs": [
    {
     "data": {
      "text/plain": [
       "6    40.327711\n",
       "Name: Deaths, dtype: float64"
      ]
     },
     "execution_count": 6,
     "metadata": {},
     "output_type": "execute_result"
    }
   ],
   "source": [
    "coc_fen2016 = coc_fen[\n",
    "    lambda x: x['Year'] == 2016\n",
    "]['Deaths']\n",
    "\n",
    "coc2016 = coc.loc[\n",
    "    lambda x: x['Year'] == 2016\n",
    "]['Deaths']\n",
    "\n",
    "(coc_fen2016/coc2016) * 100"
   ]
  },
  {
   "cell_type": "markdown",
   "metadata": {},
   "source": [
    "## Chart cocaine/fentanyl"
   ]
  },
  {
   "cell_type": "code",
   "execution_count": 7,
   "metadata": {},
   "outputs": [
    {
     "data": {
      "image/png": "[encoded data removed]",
      "text/plain": [
       "<Figure size 1152x648 with 1 Axes>"
      ]
     },
     "metadata": {},
     "output_type": "display_data"
    }
   ],
   "source": [
    "plt.style.use(\"ggplot\")\n",
    "fig, ax = plt.subplots(figsize = (16,9))\n",
    "\n",
    "ax.bar(\n",
    "    coc_fen[\"Year\"],\n",
    "    coc_fen[\"Deaths\"],\n",
    "    linewidth=3\n",
    ")\n",
    "\n",
    "ax.tick_params(labelsize=22)\n",
    "\n",
    "ax.set_ylim([ 0, 5000 ])\n",
    "\n",
    "ax.locator_params(\n",
    "    axis = \"y\",\n",
    "    nbins = 5,\n",
    ")\n",
    "\n",
    "ax.set_yticklabels([ \"{:,.0f}\".format(y) for y in ax.get_yticks() ])\n",
    "\n",
    "# set font of tick labels\n",
    "for label in ax.get_xticklabels():\n",
    "    label.set_fontproperties(tickfont)\n",
    "\n",
    "for label in ax.get_yticklabels():\n",
    "    label.set_fontproperties(tickfont)\n",
    "\n",
    "ax.set_title(\"Overdoses involving cocaine and \\n synthetic opioids (fentanyl)\", fontproperties = titlefont)\n",
    "\n",
    "ax.set_ylabel(\"Deaths\", fontproperties = labelfont)\n",
    "pass"
   ]
  },
  {
   "cell_type": "markdown",
   "metadata": {},
   "source": [
    "---\n",
    "\n",
    "---\n",
    "\n",
    "---"
   ]
  }
 ],
 "metadata": {
  "kernelspec": {
   "display_name": "Python 3",
   "language": "python",
   "name": "python3"
  },
  "language_info": {
   "codemirror_mode": {
    "name": "ipython",
    "version": 3
   },
   "file_extension": ".py",
   "mimetype": "text/x-python",
   "name": "python",
   "nbconvert_exporter": "python",
   "pygments_lexer": "ipython3",
   "version": "3.6.4"
  }
 },
 "nbformat": 4,
 "nbformat_minor": 2
}
